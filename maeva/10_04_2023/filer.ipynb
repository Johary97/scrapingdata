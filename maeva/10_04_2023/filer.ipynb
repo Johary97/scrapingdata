{
 "cells": [
  {
   "cell_type": "code",
   "execution_count": 1,
   "metadata": {},
   "outputs": [],
   "source": [
    "import pandas as pd"
   ]
  },
  {
   "cell_type": "code",
   "execution_count": 8,
   "metadata": {},
   "outputs": [
    {
     "name": "stdout",
     "output_type": "stream",
     "text": [
      "4291\n",
      "14223\n"
     ]
    }
   ],
   "source": [
    "df1 = pd.read_csv('./maeva_new_saved_1.csv',  encoding='utf-16')\n",
    "print(len(df1))\n",
    "df2 = pd.read_csv('./maeva_new_saved_2.csv', encoding='utf-16')\n",
    "print(len(df2))\n",
    "df = pd.concat([df1, df2])\n",
    "\n",
    "df.to_csv('result_maeva_utf8.csv', index=False, encoding='utf-8')\n"
   ]
  }
 ],
 "metadata": {
  "kernelspec": {
   "display_name": "Python 3",
   "language": "python",
   "name": "python3"
  },
  "language_info": {
   "codemirror_mode": {
    "name": "ipython",
    "version": 3
   },
   "file_extension": ".py",
   "mimetype": "text/x-python",
   "name": "python",
   "nbconvert_exporter": "python",
   "pygments_lexer": "ipython3",
   "version": "3.11.1"
  },
  "orig_nbformat": 4
 },
 "nbformat": 4,
 "nbformat_minor": 2
}
