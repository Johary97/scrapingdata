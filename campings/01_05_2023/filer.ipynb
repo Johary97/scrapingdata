{
 "cells": [
  {
   "cell_type": "code",
   "execution_count": 1,
   "metadata": {},
   "outputs": [],
   "source": [
    "import pandas as pd"
   ]
  },
  {
   "cell_type": "code",
   "execution_count": 16,
   "metadata": {},
   "outputs": [],
   "source": [
    "df1 = pd.read_csv('./languedoc0roussillon-pyrenees-orientales_1.csv')\n",
    "df2 = pd.read_csv('./languedoc0roussillon-pyrenees-orientales_2.csv')\n",
    "df3 = pd.read_csv('./languedoc0roussillon-pyrenees-orientales_3.csv')\n",
    "df4 = pd.read_csv('./languedoc0roussillon-pyrenees-orientales_4.csv')\n"
   ]
  },
  {
   "cell_type": "code",
   "execution_count": 28,
   "metadata": {},
   "outputs": [],
   "source": [
    "df = pd.concat([df1, df2, df3, df4])\n",
    "df.to_csv('rhone-alpes-ardeche.csv', index=False)"
   ]
  }
 ],
 "metadata": {
  "kernelspec": {
   "display_name": "Python 3",
   "language": "python",
   "name": "python3"
  },
  "language_info": {
   "codemirror_mode": {
    "name": "ipython",
    "version": 3
   },
   "file_extension": ".py",
   "mimetype": "text/x-python",
   "name": "python",
   "nbconvert_exporter": "python",
   "pygments_lexer": "ipython3",
   "version": "3.11.1"
  },
  "orig_nbformat": 4
 },
 "nbformat": 4,
 "nbformat_minor": 2
}
